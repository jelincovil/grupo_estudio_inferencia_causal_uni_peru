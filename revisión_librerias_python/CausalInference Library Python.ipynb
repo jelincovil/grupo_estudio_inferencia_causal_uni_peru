{
 "cells": [
  {
   "cell_type": "markdown",
   "id": "91526b0e-8bf8-4c5f-8490-37f465a73624",
   "metadata": {},
   "source": [
    "# CAUSALINFERENCE LIBRARY"
   ]
  },
  {
   "cell_type": "code",
   "execution_count": 26,
   "id": "2653abf5-e277-4dea-bcf3-505b5b972f7a",
   "metadata": {},
   "outputs": [],
   "source": [
    "import numpy as np\n",
    "import pandas as pd\n",
    "from causalinference import CausalModel\n",
    "from causalinference.utils import random_data "
   ]
  },
  {
   "cell_type": "code",
   "execution_count": 27,
   "id": "038160af-800b-4af7-9bd2-5d774f615f2b",
   "metadata": {},
   "outputs": [
    {
     "name": "stdout",
     "output_type": "stream",
     "text": [
      "✅ PASO 1: Modelo Causal Inicializado.\n",
      "\n",
      "--- Estadísticas Descriptivas Iniciales (Antes del Ajuste) ---\n",
      "\n",
      "Summary Statistics\n",
      "\n",
      "                       Controls (N_c=515)         Treated (N_t=485)             \n",
      "       Variable         Mean         S.d.         Mean         S.d.     Raw-diff\n",
      "--------------------------------------------------------------------------------\n",
      "              Y       -1.010        1.694        5.008        2.924        6.019\n",
      "\n",
      "                       Controls (N_c=515)         Treated (N_t=485)             \n",
      "       Variable         Mean         S.d.         Mean         S.d.     Nor-diff\n",
      "--------------------------------------------------------------------------------\n",
      "             X0       -0.324        0.892        0.370        0.992        0.737\n",
      "             X1       -0.269        0.914        0.325        0.898        0.655\n",
      "             X2       -0.374        0.901        0.293        0.937        0.726\n",
      "\n"
     ]
    }
   ],
   "source": [
    "# --- PASO 1: Inicialización del Modelo ---\n",
    "Y, D, X = random_data(N=1000, K=3) \n",
    "cm = CausalModel(Y, D, X)\n",
    "\n",
    "print(\"✅ PASO 1: Modelo Causal Inicializado.\")\n",
    "print(\"\\n--- Estadísticas Descriptivas Iniciales (Antes del Ajuste) ---\")\n",
    "print(cm.summary_stats)"
   ]
  },
  {
   "cell_type": "code",
   "execution_count": 28,
   "id": "5686b930-1a70-425c-90aa-1c72e88c2d04",
   "metadata": {},
   "outputs": [
    {
     "name": "stdout",
     "output_type": "stream",
     "text": [
      "\n",
      "✅ PASO 2: Propensity Score estimado.\n",
      "\n",
      "--- Resultados del Modelo de Propensity Score ---\n",
      "\n",
      "Estimated Parameters of Propensity Score\n",
      "\n",
      "                    Coef.       S.e.          z      P>|z|      [95% Conf. int.]\n",
      "--------------------------------------------------------------------------------\n",
      "     Intercept     -0.062      0.079     -0.780      0.435     -0.217      0.094\n",
      "            X0      1.122      0.096     11.725      0.000      0.935      1.310\n",
      "            X1      1.035      0.098     10.593      0.000      0.844      1.227\n",
      "            X2      1.108      0.099     11.227      0.000      0.915      1.301\n",
      "\n",
      "\n",
      "--- Estadísticas descriptivas después del ajuste ---\n",
      "\n",
      "Summary Statistics\n",
      "\n",
      "                       Controls (N_c=515)         Treated (N_t=485)             \n",
      "       Variable         Mean         S.d.         Mean         S.d.     Raw-diff\n",
      "--------------------------------------------------------------------------------\n",
      "              Y       -1.010        1.694        5.008        2.924        6.019\n",
      "\n",
      "                       Controls (N_c=515)         Treated (N_t=485)             \n",
      "       Variable         Mean         S.d.         Mean         S.d.     Nor-diff\n",
      "--------------------------------------------------------------------------------\n",
      "             X0       -0.324        0.892        0.370        0.992        0.737\n",
      "             X1       -0.269        0.914        0.325        0.898        0.655\n",
      "             X2       -0.374        0.901        0.293        0.937        0.726\n",
      "\n"
     ]
    }
   ],
   "source": [
    "# --- PASO 2: Estimación del Propensity Score (CORREGIDO) ---\n",
    "\n",
    "cm.est_propensity(lin='all')\n",
    "print(\"\\n✅ PASO 2: Propensity Score estimado.\")\n",
    "\n",
    "# ✅ Mostrar resultados reales del modelo logístico\n",
    "print(\"\\n--- Resultados del Modelo de Propensity Score ---\")\n",
    "print(cm.propensity)\n",
    "\n",
    "print(\"\\n--- Estadísticas descriptivas después del ajuste ---\")\n",
    "print(cm.summary_stats)"
   ]
  },
  {
   "cell_type": "code",
   "execution_count": 40,
   "id": "9acba5a8-7633-437c-b036-b80093823f1d",
   "metadata": {},
   "outputs": [
    {
     "name": "stdout",
     "output_type": "stream",
     "text": [
      "\n",
      "✅ PASO 3: Trimming aplicado (Muestra ajustada para solapamiento).\n",
      "\n",
      "Summary Statistics\n",
      "\n",
      "                       Controls (N_c=378)         Treated (N_t=396)             \n",
      "       Variable         Mean         S.d.         Mean         S.d.     Raw-diff\n",
      "--------------------------------------------------------------------------------\n",
      "              Y       -0.476        1.366        3.967        2.199        4.443\n",
      "\n",
      "                       Controls (N_c=378)         Treated (N_t=396)             \n",
      "       Variable         Mean         S.d.         Mean         S.d.     Nor-diff\n",
      "--------------------------------------------------------------------------------\n",
      "             X0       -0.276        0.814        0.147        0.861        0.504\n",
      "             X1       -0.133        0.862        0.198        0.866        0.383\n",
      "             X2       -0.150        0.916        0.160        0.957        0.331\n",
      "\n"
     ]
    }
   ],
   "source": [
    "# --- PASO 3: Trimming y Validación ---\n",
    "\n",
    "cm.trim() \n",
    "print(\"\\n✅ PASO 3: Trimming aplicado (Muestra ajustada para solapamiento).\")\n",
    "print(cm.summary_stats)"
   ]
  },
  {
   "cell_type": "code",
   "execution_count": 38,
   "id": "3bd55d70-1f3b-41f2-9bf5-1dd484389ab1",
   "metadata": {},
   "outputs": [
    {
     "name": "stdout",
     "output_type": "stream",
     "text": [
      "\n",
      "✅ PASO 4: Ejecutando Estimadores Causaless...\n",
      "\n",
      "Treatment Effect Estimates: Weighting\n",
      "\n",
      "                     Est.       S.e.          z      P>|z|      [95% Conf. int.]\n",
      "--------------------------------------------------------------------------------\n",
      "           ATE      2.902      0.090     32.275      0.000      2.725      3.078\n",
      "\n",
      "Treatment Effect Estimates: Matching\n",
      "\n",
      "                     Est.       S.e.          z      P>|z|      [95% Conf. int.]\n",
      "--------------------------------------------------------------------------------\n",
      "           ATE      3.158      0.156     20.236      0.000      2.852      3.464\n",
      "           ATC      2.675      0.193     13.847      0.000      2.297      3.054\n",
      "           ATT      3.620      0.175     20.697      0.000      3.277      3.962\n",
      "\n",
      "Treatment Effect Estimates: OLS\n",
      "\n",
      "                     Est.       S.e.          z      P>|z|      [95% Conf. int.]\n",
      "--------------------------------------------------------------------------------\n",
      "           ATE      2.897      0.078     37.351      0.000      2.745      3.049\n",
      "           ATC      2.364      0.085     27.850      0.000      2.198      2.531\n",
      "           ATT      3.406      0.087     39.210      0.000      3.236      3.576\n",
      "\n"
     ]
    }
   ],
   "source": [
    "# --- PASO 4: Estimación de Efectos Causaless ---\n",
    "\n",
    "print(\"\\n✅ PASO 4: Ejecutando Estimadores Causaless...\")\n",
    "cm.est_via_weighting()\n",
    "cm.est_via_matching(matches=1)\n",
    "cm.est_via_ols(adj=2)\n",
    "print(cm.estimates)"
   ]
  },
  {
   "cell_type": "code",
   "execution_count": 32,
   "id": "64104c61-4a20-4dac-8f17-017bf299fb54",
   "metadata": {},
   "outputs": [
    {
     "name": "stdout",
     "output_type": "stream",
     "text": [
      "\n",
      "✅ PASO 5: Resultados Finales de Estimación Causal (ATE, ATT, ATC) ---\n",
      "\n",
      "Treatment Effect Estimates: Weighting\n",
      "\n",
      "                     Est.       S.e.          z      P>|z|      [95% Conf. int.]\n",
      "--------------------------------------------------------------------------------\n",
      "           ATE      3.068      0.095     32.270      0.000      2.881      3.254\n",
      "\n",
      "Treatment Effect Estimates: Matching\n",
      "\n",
      "                     Est.       S.e.          z      P>|z|      [95% Conf. int.]\n",
      "--------------------------------------------------------------------------------\n",
      "           ATE      3.337      0.150     22.294      0.000      3.043      3.630\n",
      "           ATC      2.878      0.177     16.225      0.000      2.530      3.226\n",
      "           ATT      3.782      0.172     21.940      0.000      3.444      4.120\n",
      "\n",
      "Treatment Effect Estimates: OLS\n",
      "\n",
      "                     Est.       S.e.          z      P>|z|      [95% Conf. int.]\n",
      "--------------------------------------------------------------------------------\n",
      "           ATE      3.081      0.080     38.499      0.000      2.924      3.237\n",
      "           ATC      2.573      0.087     29.436      0.000      2.401      2.744\n",
      "           ATT      3.574      0.091     39.320      0.000      3.396      3.752\n",
      "\n"
     ]
    }
   ],
   "source": [
    "# --- PASO 5: Análisis de Resultados ---\n",
    "\n",
    "print(\"\\n✅ PASO 5: Resultados Finales de Estimación Causal (ATE, ATT, ATC) ---\")\n",
    "print(cm.estimates)"
   ]
  },
  {
   "cell_type": "code",
   "execution_count": null,
   "id": "538266ff-adf6-484b-8f36-f044883522d4",
   "metadata": {},
   "outputs": [],
   "source": []
  },
  {
   "cell_type": "code",
   "execution_count": null,
   "id": "c4fb1087-cf21-43c2-8f81-40eb5dd3606a",
   "metadata": {},
   "outputs": [],
   "source": []
  },
  {
   "cell_type": "markdown",
   "id": "d339efa3-9f3a-4e61-b7eb-706d32a800e8",
   "metadata": {},
   "source": [
    "<div style=\"background-color:#f0f0f0; padding:16px; border-radius:8px;\">\n",
    "<span style=\"font-size:22px; font-weight:bold;\">Resultados Finales de Estimación Causal (ATE, ATT, ATC)\n",
    "</div>"
   ]
  },
  {
   "cell_type": "code",
   "execution_count": null,
   "id": "5e1114ea-36db-42dd-be10-ac2ec19ae0ac",
   "metadata": {},
   "outputs": [],
   "source": []
  },
  {
   "cell_type": "markdown",
   "id": "cce6a90a-fa1a-4141-bc18-e4f314f4247d",
   "metadata": {},
   "source": [
    "<div style=\"background-color:#f0f0f0; padding:16px; border-radius:8px;\">\n",
    "<span style=\"font-size:22px; font-weight:bold;\">Libreria Causalinference - Python\n",
    "</div>"
   ]
  },
  {
   "cell_type": "markdown",
   "id": "3662771c-ecd9-4487-871b-d93c8c22a780",
   "metadata": {},
   "source": [
    "## Estimadores Causales Fundamentales\n",
    "\n",
    "A continuación se muestran las formulaciones matemáticas de los principales métodos de estimación causal implementados en `CausalModel`.\n",
    "\n",
    "---\n",
    "\n",
    "### 1. Weighting (IPW) — *Inverse Probability Weighting*\n",
    "\n",
    "El estimador IPW (ponderación por probabilidad inversa) utiliza los *propensity scores* para reponderar las observaciones y estimar el ATE:\n",
    "\n",
    "\n",
    "$$\n",
    "\\widehat{\\tau}_{IPW} \n",
    "= \n",
    "\\frac{1}{n}\n",
    "\\sum_{i=1}^{n}\n",
    "\\left(\n",
    "\\frac{D_i Y_i}{\\widehat{e}(X_i)}\n",
    "-\n",
    "\\frac{(1 - D_i) Y_i}{1 - \\widehat{e}(X_i)}\n",
    "\\right)\n",
    "$$\n",
    "\n",
    "****\n",
    "$\\widehat{\\tau}{IPW} = \\frac{1}{n} \\sum{i=1}^{n} \\left( \\frac{D_i Y_i}{\\widehat{e}(X_i)} - \\frac{(1 - D_i) Y_i}{1 - \\widehat{e}(X_i)} \\right)$\n",
    "\n",
    "\n",
    "\n",
    "\n",
    "\n",
    "\n",
    "donde:\n",
    "\n",
    "- $D_i \\in \\{0,1\\}$ indica si la unidad $i$ recibió el tratamiento,  \n",
    "- $Y_i$ es el resultado observado,  \n",
    "- $\\widehat{e}(X_i) = \\Pr(D_i = 1 \\mid X_i)$ es el *propensity score* estimado.\n",
    "\n",
    " **Interpretación:** el IPW repondera cada individuo por la probabilidad inversa de recibir el tratamiento que efectivamente recibió, equilibrando las covariables entre grupos tratados y no tratados.\n",
    "\n",
    "---\n",
    "\n",
    "### 2. Matching — *Nearest Neighbor Matching*\n",
    "\n",
    "El estimador por emparejamiento (*matching*) compara unidades tratadas y no tratadas con valores similares de covariables o *propensity score*:\n",
    "\n",
    "$$\n",
    "\\widehat{\\tau}_{Matching}\n",
    "= \n",
    "\\frac{1}{N_T} \n",
    "\\sum_{i: D_i = 1}\n",
    "\\left(\n",
    "Y_i - \\frac{1}{|J(i)|}\n",
    "\\sum_{j \\in J(i)} Y_j\n",
    "\\right)\n",
    "$$\n",
    "\n",
    "donde:\n",
    "\n",
    "- $J(i)$ es el conjunto de vecinos más cercanos al individuo $i$ en el grupo de control,  \n",
    "- $|J(i)|$ es el número de vecinos usados (por ejemplo, 1 en el caso *1-NN*),  \n",
    "- $N_T$ es el número total de unidades tratadas.\n",
    "\n",
    " **Interpretación:** el efecto del tratamiento se obtiene promediando las diferencias de resultados entre cada tratado y sus controles emparejados.\n",
    "\n",
    "---\n",
    "\n",
    "### 3. Regresión (OLS) — *Outcome Regression Estimator*\n",
    "\n",
    "El estimador por regresión lineal ajusta un modelo para el resultado en función del tratamiento y las covariables:\n",
    "\n",
    "$$\n",
    "Y_i = \\beta_0 + \\tau D_i + \\beta^\\top X_i + \\varepsilon_i\n",
    "$$\n",
    "\n",
    "El efecto causal promedio estimado (ATE) es el coeficiente $\\widehat{\\tau}$ asociado a la variable de tratamiento $D_i$:\n",
    "\n",
    "$$\n",
    "\\widehat{\\tau}_{OLS} = \\widehat{\\beta}_D\n",
    "$$\n",
    "\n",
    " **Interpretación:** este enfoque asume que, condicionalmente a $X$, la relación entre $D$ y $Y$ es lineal, y que no hay variables omitidas que confundan el efecto.\n",
    "\n",
    "---\n",
    "\n",
    "### 4. Blocking — *Stratification (Subclassification) Estimator*\n",
    "\n",
    "El método de *blocking* o estratificación divide el espacio de los *propensity scores* en $K$ bloques homogéneos:\n",
    "\n",
    "$$\n",
    "\\widehat{\\tau}_{Blocking}\n",
    "=\n",
    "\\sum_{k=1}^{K}\n",
    "\\frac{n_k}{n}\n",
    "\\left(\n",
    "\\overline{Y}_{1k} - \\overline{Y}_{0k}\n",
    "\\right)\n",
    "$$\n",
    "\n",
    "donde:\n",
    "\n",
    "- $n_k$ es el número de observaciones en el bloque $k$,  \n",
    "- $\\overline{Y}_{1k}$ y $\\overline{Y}_{0k}$ son las medias de $Y$ para tratados y controles dentro del bloque $k$.\n",
    "\n",
    "💡 **Interpretación:** el efecto se estima dentro de cada estrato y luego se promedia ponderando por el tamaño de cada bloque, garantizando comparabilidad local.\n",
    "\n",
    "---\n",
    "\n",
    " **Resumen conceptual:**\n",
    "\n",
    "| Método | Idea central | Dependencia de modelo | Supuestos clave |\n",
    "|:--------|:-------------|:----------------------|:----------------|\n",
    "| Weighting (IPW) | Reponderar unidades por $1/e(X)$ | Medio | Correcta especificación de $e(X)$ |\n",
    "| Matching | Comparar unidades similares | Bajo | Buen emparejamiento / soporte común |\n",
    "| OLS | Modelar $Y$ condicional a $(D, X)$ | Alto | Linealidad y homocedasticidad |\n",
    "| Blocking | Estratificar por $e(X)$ | Bajo | Balance dentro de estratos |\n",
    "\n",
    "---\n"
   ]
  },
  {
   "cell_type": "code",
   "execution_count": null,
   "id": "b4ab0bde-d33c-46f5-92e7-6052f3158833",
   "metadata": {},
   "outputs": [],
   "source": []
  }
 ],
 "metadata": {
  "kernelspec": {
   "display_name": "Python 3 (ipykernel)",
   "language": "python",
   "name": "python3"
  },
  "language_info": {
   "codemirror_mode": {
    "name": "ipython",
    "version": 3
   },
   "file_extension": ".py",
   "mimetype": "text/x-python",
   "name": "python",
   "nbconvert_exporter": "python",
   "pygments_lexer": "ipython3",
   "version": "3.13.5"
  }
 },
 "nbformat": 4,
 "nbformat_minor": 5
}
